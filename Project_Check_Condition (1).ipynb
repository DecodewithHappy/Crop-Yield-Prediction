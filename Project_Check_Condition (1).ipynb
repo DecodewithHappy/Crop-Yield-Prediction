{
  "nbformat": 4,
  "nbformat_minor": 0,
  "metadata": {
    "colab": {
      "name": "Project_Check_Condition.ipynb",
      "provenance": [],
      "collapsed_sections": []
    },
    "kernelspec": {
      "display_name": "Python 3",
      "name": "python3"
    },
    "language_info": {
      "name": "python"
    }
  },
  "cells": [
    {
      "cell_type": "code",
      "metadata": {
        "id": "hmy8Eyzz160Y"
      },
      "source": [
        "# Importing libraries\n",
        "\n",
        "import pandas as pd\n",
        "import numpy as np\n",
        "import matplotlib.pyplot as plt\n",
        "import seaborn as sn\n",
        "from sklearn import metrics\n",
        "from sklearn.metrics import confusion_matrix\n",
        "from sklearn.metrics import classification_report\n",
        "from sklearn import tree\n",
        "import warnings\n",
        "warnings.filterwarnings('ignore')\n",
        "\n",
        "#from __future__ import print_function"
      ],
      "execution_count": null,
      "outputs": []
    },
    {
      "cell_type": "code",
      "metadata": {
        "id": "SbEK1xkA2Ewq"
      },
      "source": [
        "#Load the dataset\n",
        "\n",
        "data_frame = pd.read_csv(\"Crop_recommendation.csv\")"
      ],
      "execution_count": null,
      "outputs": []
    },
    {
      "cell_type": "code",
      "metadata": {
        "colab": {
          "base_uri": "https://localhost:8080/",
          "height": 203
        },
        "id": "nYb0bfCK2Llu",
        "outputId": "46e33bda-c40b-4cb7-9746-3d3d223fac37"
      },
      "source": [
        "data_frame.head()"
      ],
      "execution_count": null,
      "outputs": [
        {
          "output_type": "execute_result",
          "data": {
            "text/html": [
              "<div>\n",
              "<style scoped>\n",
              "    .dataframe tbody tr th:only-of-type {\n",
              "        vertical-align: middle;\n",
              "    }\n",
              "\n",
              "    .dataframe tbody tr th {\n",
              "        vertical-align: top;\n",
              "    }\n",
              "\n",
              "    .dataframe thead th {\n",
              "        text-align: right;\n",
              "    }\n",
              "</style>\n",
              "<table border=\"1\" class=\"dataframe\">\n",
              "  <thead>\n",
              "    <tr style=\"text-align: right;\">\n",
              "      <th></th>\n",
              "      <th>N</th>\n",
              "      <th>P</th>\n",
              "      <th>K</th>\n",
              "      <th>temperature</th>\n",
              "      <th>humidity</th>\n",
              "      <th>ph</th>\n",
              "      <th>rainfall</th>\n",
              "      <th>crop_name</th>\n",
              "    </tr>\n",
              "  </thead>\n",
              "  <tbody>\n",
              "    <tr>\n",
              "      <th>0</th>\n",
              "      <td>90</td>\n",
              "      <td>42</td>\n",
              "      <td>43</td>\n",
              "      <td>20.879744</td>\n",
              "      <td>82.002744</td>\n",
              "      <td>6.502985</td>\n",
              "      <td>202.935536</td>\n",
              "      <td>rice</td>\n",
              "    </tr>\n",
              "    <tr>\n",
              "      <th>1</th>\n",
              "      <td>85</td>\n",
              "      <td>58</td>\n",
              "      <td>41</td>\n",
              "      <td>21.770462</td>\n",
              "      <td>80.319644</td>\n",
              "      <td>7.038096</td>\n",
              "      <td>226.655537</td>\n",
              "      <td>rice</td>\n",
              "    </tr>\n",
              "    <tr>\n",
              "      <th>2</th>\n",
              "      <td>60</td>\n",
              "      <td>55</td>\n",
              "      <td>44</td>\n",
              "      <td>23.004459</td>\n",
              "      <td>82.320763</td>\n",
              "      <td>7.840207</td>\n",
              "      <td>263.964248</td>\n",
              "      <td>rice</td>\n",
              "    </tr>\n",
              "    <tr>\n",
              "      <th>3</th>\n",
              "      <td>74</td>\n",
              "      <td>35</td>\n",
              "      <td>40</td>\n",
              "      <td>26.491096</td>\n",
              "      <td>80.158363</td>\n",
              "      <td>6.980401</td>\n",
              "      <td>242.864034</td>\n",
              "      <td>rice</td>\n",
              "    </tr>\n",
              "    <tr>\n",
              "      <th>4</th>\n",
              "      <td>78</td>\n",
              "      <td>42</td>\n",
              "      <td>42</td>\n",
              "      <td>20.130175</td>\n",
              "      <td>81.604873</td>\n",
              "      <td>7.628473</td>\n",
              "      <td>262.717340</td>\n",
              "      <td>rice</td>\n",
              "    </tr>\n",
              "  </tbody>\n",
              "</table>\n",
              "</div>"
            ],
            "text/plain": [
              "    N   P   K  temperature   humidity        ph    rainfall crop_name\n",
              "0  90  42  43    20.879744  82.002744  6.502985  202.935536      rice\n",
              "1  85  58  41    21.770462  80.319644  7.038096  226.655537      rice\n",
              "2  60  55  44    23.004459  82.320763  7.840207  263.964248      rice\n",
              "3  74  35  40    26.491096  80.158363  6.980401  242.864034      rice\n",
              "4  78  42  42    20.130175  81.604873  7.628473  262.717340      rice"
            ]
          },
          "metadata": {
            "tags": []
          },
          "execution_count": 3
        }
      ]
    },
    {
      "cell_type": "code",
      "metadata": {
        "colab": {
          "base_uri": "https://localhost:8080/",
          "height": 203
        },
        "id": "K99O3Tee35cp",
        "outputId": "144badef-d08c-40bf-f41e-4f96b52f80b5"
      },
      "source": [
        "data_frame.tail()"
      ],
      "execution_count": null,
      "outputs": [
        {
          "output_type": "execute_result",
          "data": {
            "text/html": [
              "<div>\n",
              "<style scoped>\n",
              "    .dataframe tbody tr th:only-of-type {\n",
              "        vertical-align: middle;\n",
              "    }\n",
              "\n",
              "    .dataframe tbody tr th {\n",
              "        vertical-align: top;\n",
              "    }\n",
              "\n",
              "    .dataframe thead th {\n",
              "        text-align: right;\n",
              "    }\n",
              "</style>\n",
              "<table border=\"1\" class=\"dataframe\">\n",
              "  <thead>\n",
              "    <tr style=\"text-align: right;\">\n",
              "      <th></th>\n",
              "      <th>N</th>\n",
              "      <th>P</th>\n",
              "      <th>K</th>\n",
              "      <th>temperature</th>\n",
              "      <th>humidity</th>\n",
              "      <th>ph</th>\n",
              "      <th>rainfall</th>\n",
              "      <th>crop_name</th>\n",
              "    </tr>\n",
              "  </thead>\n",
              "  <tbody>\n",
              "    <tr>\n",
              "      <th>2195</th>\n",
              "      <td>107</td>\n",
              "      <td>34</td>\n",
              "      <td>32</td>\n",
              "      <td>26.774637</td>\n",
              "      <td>66.413269</td>\n",
              "      <td>6.780064</td>\n",
              "      <td>177.774507</td>\n",
              "      <td>coffee</td>\n",
              "    </tr>\n",
              "    <tr>\n",
              "      <th>2196</th>\n",
              "      <td>99</td>\n",
              "      <td>15</td>\n",
              "      <td>27</td>\n",
              "      <td>27.417112</td>\n",
              "      <td>56.636362</td>\n",
              "      <td>6.086922</td>\n",
              "      <td>127.924610</td>\n",
              "      <td>coffee</td>\n",
              "    </tr>\n",
              "    <tr>\n",
              "      <th>2197</th>\n",
              "      <td>118</td>\n",
              "      <td>33</td>\n",
              "      <td>30</td>\n",
              "      <td>24.131797</td>\n",
              "      <td>67.225123</td>\n",
              "      <td>6.362608</td>\n",
              "      <td>173.322839</td>\n",
              "      <td>coffee</td>\n",
              "    </tr>\n",
              "    <tr>\n",
              "      <th>2198</th>\n",
              "      <td>117</td>\n",
              "      <td>32</td>\n",
              "      <td>34</td>\n",
              "      <td>26.272418</td>\n",
              "      <td>52.127394</td>\n",
              "      <td>6.758793</td>\n",
              "      <td>127.175293</td>\n",
              "      <td>coffee</td>\n",
              "    </tr>\n",
              "    <tr>\n",
              "      <th>2199</th>\n",
              "      <td>104</td>\n",
              "      <td>18</td>\n",
              "      <td>30</td>\n",
              "      <td>23.603016</td>\n",
              "      <td>60.396475</td>\n",
              "      <td>6.779833</td>\n",
              "      <td>140.937041</td>\n",
              "      <td>coffee</td>\n",
              "    </tr>\n",
              "  </tbody>\n",
              "</table>\n",
              "</div>"
            ],
            "text/plain": [
              "        N   P   K  temperature   humidity        ph    rainfall crop_name\n",
              "2195  107  34  32    26.774637  66.413269  6.780064  177.774507    coffee\n",
              "2196   99  15  27    27.417112  56.636362  6.086922  127.924610    coffee\n",
              "2197  118  33  30    24.131797  67.225123  6.362608  173.322839    coffee\n",
              "2198  117  32  34    26.272418  52.127394  6.758793  127.175293    coffee\n",
              "2199  104  18  30    23.603016  60.396475  6.779833  140.937041    coffee"
            ]
          },
          "metadata": {
            "tags": []
          },
          "execution_count": 4
        }
      ]
    },
    {
      "cell_type": "code",
      "metadata": {
        "colab": {
          "base_uri": "https://localhost:8080/"
        },
        "id": "QI67WpuY2jDI",
        "outputId": "f4dff1be-a8b2-4598-ecac-9966cbc0bebe"
      },
      "source": [
        "data_frame.shape"
      ],
      "execution_count": null,
      "outputs": [
        {
          "output_type": "execute_result",
          "data": {
            "text/plain": [
              "(2200, 8)"
            ]
          },
          "metadata": {
            "tags": []
          },
          "execution_count": 5
        }
      ]
    },
    {
      "cell_type": "code",
      "metadata": {
        "colab": {
          "base_uri": "https://localhost:8080/"
        },
        "id": "A2JD8aAw8eBk",
        "outputId": "eb5cffbb-8a6e-41f4-ccf5-84f5a4060fe7"
      },
      "source": [
        "data_frame.columns"
      ],
      "execution_count": null,
      "outputs": [
        {
          "output_type": "execute_result",
          "data": {
            "text/plain": [
              "Index(['N', 'P', 'K', 'temperature', 'humidity', 'ph', 'rainfall',\n",
              "       'crop_name'],\n",
              "      dtype='object')"
            ]
          },
          "metadata": {
            "tags": []
          },
          "execution_count": 6
        }
      ]
    },
    {
      "cell_type": "code",
      "metadata": {
        "colab": {
          "base_uri": "https://localhost:8080/"
        },
        "id": "_Gmp1nEG8u1W",
        "outputId": "1996e825-d7e3-4362-8ad2-8d871de5a819"
      },
      "source": [
        "data_frame['crop_name'].unique()"
      ],
      "execution_count": null,
      "outputs": [
        {
          "output_type": "execute_result",
          "data": {
            "text/plain": [
              "array(['rice', 'maize', 'chickpea', 'kidneybeans', 'pigeonpeas',\n",
              "       'mothbeans', 'mungbean', 'blackgram', 'lentil', 'pomegranate',\n",
              "       'banana', 'mango', 'grapes', 'watermelon', 'muskmelon', 'apple',\n",
              "       'orange', 'papaya', 'coconut', 'cotton', 'jute', 'coffee'],\n",
              "      dtype=object)"
            ]
          },
          "metadata": {
            "tags": []
          },
          "execution_count": 7
        }
      ]
    },
    {
      "cell_type": "code",
      "metadata": {
        "colab": {
          "base_uri": "https://localhost:8080/"
        },
        "id": "ZcYJPB6z8u_J",
        "outputId": "88360183-9344-4cf3-d7c7-94d9d38c3c3c"
      },
      "source": [
        "data_frame['crop_name'].value_counts()"
      ],
      "execution_count": null,
      "outputs": [
        {
          "output_type": "execute_result",
          "data": {
            "text/plain": [
              "pigeonpeas     100\n",
              "chickpea       100\n",
              "orange         100\n",
              "blackgram      100\n",
              "jute           100\n",
              "papaya         100\n",
              "maize          100\n",
              "watermelon     100\n",
              "pomegranate    100\n",
              "lentil         100\n",
              "banana         100\n",
              "kidneybeans    100\n",
              "rice           100\n",
              "coffee         100\n",
              "grapes         100\n",
              "muskmelon      100\n",
              "mungbean       100\n",
              "mango          100\n",
              "cotton         100\n",
              "apple          100\n",
              "mothbeans      100\n",
              "coconut        100\n",
              "Name: crop_name, dtype: int64"
            ]
          },
          "metadata": {
            "tags": []
          },
          "execution_count": 8
        }
      ]
    },
    {
      "cell_type": "code",
      "metadata": {
        "colab": {
          "base_uri": "https://localhost:8080/"
        },
        "id": "ikuxbgTC8vI0",
        "outputId": "925a54f7-842c-42cb-bb58-0fd496d91bb7"
      },
      "source": [
        "data_frame.dtypes"
      ],
      "execution_count": null,
      "outputs": [
        {
          "output_type": "execute_result",
          "data": {
            "text/plain": [
              "N                int64\n",
              "P                int64\n",
              "K                int64\n",
              "temperature    float64\n",
              "humidity       float64\n",
              "ph             float64\n",
              "rainfall       float64\n",
              "crop_name       object\n",
              "dtype: object"
            ]
          },
          "metadata": {
            "tags": []
          },
          "execution_count": 9
        }
      ]
    },
    {
      "cell_type": "code",
      "metadata": {
        "id": "7devHwPv6OWf"
      },
      "source": [
        "x = data_frame[['N' , 'P' , 'K' , 'temperature' , 'humidity' , 'ph' , 'rainfall']]\n",
        "y = data_frame['crop_name']\n",
        "#labels = df['label']"
      ],
      "execution_count": null,
      "outputs": []
    },
    {
      "cell_type": "code",
      "metadata": {
        "id": "sAsW2Xh39NNc"
      },
      "source": [
        "# Initializing empty lists to append all model's name and corresponding name\n",
        "\n",
        "algorithm_accuracy = []\n",
        "algorithm = []"
      ],
      "execution_count": null,
      "outputs": []
    },
    {
      "cell_type": "code",
      "metadata": {
        "id": "__gG64iX2qb8"
      },
      "source": [
        "# Splitting into train and test data\n",
        "\n",
        "from sklearn.model_selection import train_test_split\n",
        "x_train, x_test, y_train, y_test = train_test_split(x , y , test_size = 0.2 , random_state =2)\n"
      ],
      "execution_count": null,
      "outputs": []
    },
    {
      "cell_type": "code",
      "metadata": {
        "id": "2JsVJ8Ph20YH"
      },
      "source": [
        "#Implementation of Random Forest\n",
        "\n",
        "from sklearn.ensemble import RandomForestClassifier\n",
        "\n",
        "Random_Forest = RandomForestClassifier(n_estimators = 20 , random_state = 0)\n",
        "Random_Forest.fit(x_train , y_train)\n",
        "\n",
        "y_pred = Random_Forest.predict(x_test)"
      ],
      "execution_count": null,
      "outputs": []
    },
    {
      "cell_type": "code",
      "metadata": {
        "id": "1ZEur1Wuyes0"
      },
      "source": [
        "#Confusion Matrix\n",
        "\n",
        "'''ConfusionMatrix = confusion_matrix(y_test , y_pred)\n",
        "print(ConfusionMatrix)'''\n",
        "ConfusionMatrix = confusion_matrix(y_test, y_pred)\n",
        "\n",
        "ConfusionMatrix_dataframe = pd.DataFrame(ConfusionMatrix , index = ['rice', 'maize', 'chickpea', 'kidneybeans', 'pigeonpeas',\n",
        "       'mothbeans', 'mungbean', 'blackgram', 'lentil', 'pomegranate',\n",
        "       'banana', 'mango', 'grapes', 'watermelon', 'muskmelon', 'apple',\n",
        "       'orange', 'papaya', 'coconut', 'cotton', 'jute', 'coffee'] , columns = ['rice', 'maize', 'chickpea', 'kidneybeans', 'pigeonpeas',\n",
        "       'mothbeans', 'mungbean', 'blackgram', 'lentil', 'pomegranate',\n",
        "       'banana', 'mango', 'grapes', 'watermelon', 'muskmelon', 'apple',\n",
        "       'orange', 'papaya', 'coconut', 'cotton', 'jute', 'coffee'])"
      ],
      "execution_count": null,
      "outputs": []
    },
    {
      "cell_type": "code",
      "metadata": {
        "colab": {
          "base_uri": "https://localhost:8080/",
          "height": 570
        },
        "id": "TIM97Q3byo3z",
        "outputId": "17959f20-3a62-454d-f9f3-8d4b2bb7f0eb"
      },
      "source": [
        "#Plotting the confusion matrix\n",
        "plt.figure(figsize=(13,8))\n",
        "sn.heatmap(ConfusionMatrix_dataframe, annot=True)\n",
        "plt.title('Confusion Matrix ( Random Forest )')\n",
        "plt.ylabel('Actual Values ------>')\n",
        "plt.xlabel('Predicted Values ------>')\n",
        "plt.show()"
      ],
      "execution_count": null,
      "outputs": [
        {
          "output_type": "display_data",
          "data": {
            "image/png": "[encoded data removed]",
            "text/plain": [
              "<Figure size 936x576 with 2 Axes>"
            ]
          },
          "metadata": {
            "tags": []
          }
        }
      ]
    },
    {
      "cell_type": "code",
      "metadata": {
        "colab": {
          "base_uri": "https://localhost:8080/"
        },
        "id": "ZAa2DCtz4jkZ",
        "outputId": "86bccab0-37f6-4711-9332-40fd1cc39dac"
      },
      "source": [
        "#Accuracy of Random Forest\n",
        "\n",
        "accuracy = metrics.accuracy_score(y_test , y_pred)\n",
        "\n",
        "algorithm_accuracy.append(accuracy)\n",
        "algorithm.append('Random Forest')\n",
        "\n",
        "print(classification_report(y_test , y_pred))\n",
        "\n",
        "print(\"\\n Random Forest's Accuracy is\", accuracy)\n",
        "\n"
      ],
      "execution_count": null,
      "outputs": [
        {
          "output_type": "stream",
          "text": [
            "              precision    recall  f1-score   support\n",
            "\n",
            "       apple       1.00      1.00      1.00        13\n",
            "      banana       1.00      1.00      1.00        17\n",
            "   blackgram       0.94      1.00      0.97        16\n",
            "    chickpea       1.00      1.00      1.00        21\n",
            "     coconut       1.00      1.00      1.00        21\n",
            "      coffee       1.00      1.00      1.00        22\n",
            "      cotton       1.00      1.00      1.00        20\n",
            "      grapes       1.00      1.00      1.00        18\n",
            "        jute       0.90      1.00      0.95        28\n",
            " kidneybeans       1.00      1.00      1.00        14\n",
            "      lentil       1.00      1.00      1.00        23\n",
            "       maize       1.00      1.00      1.00        21\n",
            "       mango       1.00      1.00      1.00        26\n",
            "   mothbeans       1.00      0.95      0.97        19\n",
            "    mungbean       1.00      1.00      1.00        24\n",
            "   muskmelon       1.00      1.00      1.00        23\n",
            "      orange       1.00      1.00      1.00        29\n",
            "      papaya       1.00      1.00      1.00        19\n",
            "  pigeonpeas       1.00      1.00      1.00        18\n",
            " pomegranate       1.00      1.00      1.00        17\n",
            "        rice       1.00      0.81      0.90        16\n",
            "  watermelon       1.00      1.00      1.00        15\n",
            "\n",
            "    accuracy                           0.99       440\n",
            "   macro avg       0.99      0.99      0.99       440\n",
            "weighted avg       0.99      0.99      0.99       440\n",
            "\n",
            "\n",
            " Random Forest's Accuracy is 0.990909090909091\n"
          ],
          "name": "stdout"
        }
      ]
    },
    {
      "cell_type": "code",
      "metadata": {
        "colab": {
          "base_uri": "https://localhost:8080/"
        },
        "id": "mZn4nBCs-CWJ",
        "outputId": "644f5f6d-1bd9-4167-e99a-6db49d3e56cb"
      },
      "source": [
        "accuracy_models = dict(zip(algorithm, algorithm_accuracy))\n",
        "for i, acc in accuracy_models.items():\n",
        "    print (i, '=', acc,\"\\n\")"
      ],
      "execution_count": null,
      "outputs": [
        {
          "output_type": "stream",
          "text": [
            "Random Forest = 0.990909090909091 \n",
            "\n"
          ],
          "name": "stdout"
        }
      ]
    },
    {
      "cell_type": "code",
      "metadata": {
        "colab": {
          "base_uri": "https://localhost:8080/"
        },
        "id": "8IAtNKlXmjZ4",
        "outputId": "516f0678-6d86-4331-ce85-501092ceb359"
      },
      "source": [
        "n_max = data_frame['N'].max()\n",
        "p_max = data_frame['P'].max()\n",
        "k_max = data_frame['K'].max()\n",
        "temp_max = data_frame['temperature'].max()\n",
        "hum_max = data_frame['humidity'].max()\n",
        "ph_max = data_frame['ph'].max()\n",
        "print(n_max, p_max, k_max, temp_max, hum_max, ph_max)"
      ],
      "execution_count": null,
      "outputs": [
        {
          "output_type": "stream",
          "text": [
            "140 145 205 43.67549305 99.98187601 9.93509073\n"
          ],
          "name": "stdout"
        }
      ]
    },
    {
      "cell_type": "code",
      "metadata": {
        "colab": {
          "base_uri": "https://localhost:8080/",
          "height": 52
        },
        "id": "6HhVeqar9lyt",
        "outputId": "b2c9167f-7d71-4b81-8276-c5fa3e83a030"
      },
      "source": [
        "'''n = int(input(\"Enter the amount of Nitrogen : \"))\n",
        "p = int(input(\"Enter the amount of Phosphorus : \"))\n",
        "k = int(input(\"Enter the amount of Potassium : \"))\n",
        "temp = float(input(\"Enter the temperature : \"))\n",
        "hum = float(input(\"Enter the humidity : \"))\n",
        "PH = float(input(\"Enter the ph value : \"))\n",
        "\n",
        "lst = []\n",
        "col = data_frame.columns\n",
        "shape = data_frame.shape               \n",
        "lst.extend([n, p, k, temp, hum, PH])\n",
        "#print(len(col) - 2)\n",
        "\n",
        "c=0                        #counter for checking\n",
        "\n",
        "if(PH > 0 and PH <= ph_max):        #checking the range of ph value\n",
        "    i = 0\n",
        "    while(i < (len(col) - 2)):   \n",
        "    \n",
        "        if(lst[i] <= 0 or lst[i] > 100):\n",
        "            c += 1\n",
        "        i += 1\n",
        "else:\n",
        "    c = 4\n",
        "    #print(\"PH is out of range !!!!!!!! \")\n",
        "\n",
        "\n",
        "if c < 4:                #counter must be less than 4 to give results\n",
        "\n",
        "    rainfall = 0\n",
        "    while(rainfall < 12000):\n",
        "\n",
        "        data2 = np.array([[n,\tp,\tk,\ttemp,\thum,\tPH, rainfall]])\n",
        "        prediction = Random_Forest.predict(data2)\n",
        "        print('For rainfall between ', rainfall, ' to ', (rainfall+100),' = ', prediction)\n",
        "        rainfall = ( rainfall + 100 )\n",
        "else:\n",
        "    print(\"Values entered by user is out of range !!!!! \")\n",
        "    \n",
        "'''\n",
        "\n",
        "'''\n",
        "data2 = np.array([[79,\t42,\t42,\t20.130175, 81.604873,7.628473, 262.717340]])\n",
        "prediction = Random_Forest.predict(data2)\n",
        "print(prediction)\n",
        "'''\n",
        "\n"
      ],
      "execution_count": null,
      "outputs": [
        {
          "output_type": "execute_result",
          "data": {
            "application/vnd.google.colaboratory.intrinsic+json": {
              "type": "string"
            },
            "text/plain": [
              "'\\ndata2 = np.array([[79,\\t42,\\t42,\\t20.130175, 81.604873,7.628473, 262.717340]])\\nprediction = Random_Forest.predict(data2)\\nprint(prediction)\\n'"
            ]
          },
          "metadata": {
            "tags": []
          },
          "execution_count": 19
        }
      ]
    },
    {
      "cell_type": "code",
      "metadata": {
        "colab": {
          "base_uri": "https://localhost:8080/",
          "height": 137
        },
        "id": "S_Z2rIC_rsMW",
        "outputId": "046d0869-6142-409f-8c48-4ba033d13279"
      },
      "source": [
        "'''n = int(input(\"Enter the amount of Nitrogen : \"))\n",
        "p = int(input(\"Enter the amount of Phosphorus : \"))\n",
        "k = int(input(\"Enter the amount of Potassium : \"))\n",
        "temp = float(input(\"Enter the temperature : \"))\n",
        "hum = float(input(\"Enter the humidity : \"))\n",
        "PH = float(input(\"Enter the ph value : \"))\n",
        "\n",
        "c = 0\n",
        "\n",
        "if(PH > 0 and PH <= ph_max):\n",
        "    if(n <= 0 or n > n_max):\n",
        "        print(\"WARNING !!!!  Value of N(Nitrogen) is out of range !!!!!\")\n",
        "        c +=1\n",
        "    if(p <= 0 or p > p_max):\n",
        "        print(\"WARNING !!!!  Value of P(Phosphorus) is out of range !!!!!\")\n",
        "        c +=1\n",
        "    if(k <= 0 or k > k_max):\n",
        "        print(\"WARNING !!!!  Value of K(Potassium) is out of range !!!!!\")\n",
        "        c +=1\n",
        "    if(temp <= 0 or temp > temp_max):\n",
        "        print(\"WARNING !!!!  Value of temperature is out of range !!!!!\")\n",
        "        c +=1\n",
        "    if(hum <= 0 or hum > hum_max):\n",
        "        print(\"WARNING !!!!  Value of humidity is out of range !!!!!\")\n",
        "        c +=1\n",
        "else:\n",
        "    print(\"WARNING !!!!  Value of PH is out of range !!!!!\")\n",
        "    c = 4\n",
        "\n",
        "if c < 4:                #counter must be less than 4 to give results\n",
        "\n",
        "    rainfall = 0\n",
        "    while(rainfall < 12000):\n",
        "\n",
        "        data2 = np.array([[n,\tp,\tk,\ttemp,\thum,\tPH, rainfall]])\n",
        "        prediction = Random_Forest.predict(data2)\n",
        "        print('For rainfall between ', rainfall, ' to ', (rainfall+100),' = ', prediction)\n",
        "        rainfall = ( rainfall + 100 )\n",
        "else:\n",
        "    print(\"Values entered by user is out of range !!!!! \")\n",
        "\n",
        " '''   "
      ],
      "execution_count": null,
      "outputs": [
        {
          "output_type": "execute_result",
          "data": {
            "application/vnd.google.colaboratory.intrinsic+json": {
              "type": "string"
            },
            "text/plain": [
              "'n = int(input(\"Enter the amount of Nitrogen : \"))\\np = int(input(\"Enter the amount of Phosphorus : \"))\\nk = int(input(\"Enter the amount of Potassium : \"))\\ntemp = float(input(\"Enter the temperature : \"))\\nhum = float(input(\"Enter the humidity : \"))\\nPH = float(input(\"Enter the ph value : \"))\\n\\nc = 0\\n\\nif(PH > 0 and PH <= ph_max):\\n    if(n <= 0 or n > n_max):\\n        print(\"WARNING !!!!  Value of N(Nitrogen) is out of range !!!!!\")\\n        c +=1\\n    if(p <= 0 or p > p_max):\\n        print(\"WARNING !!!!  Value of P(Phosphorus) is out of range !!!!!\")\\n        c +=1\\n    if(k <= 0 or k > k_max):\\n        print(\"WARNING !!!!  Value of K(Potassium) is out of range !!!!!\")\\n        c +=1\\n    if(temp <= 0 or temp > temp_max):\\n        print(\"WARNING !!!!  Value of temperature is out of range !!!!!\")\\n        c +=1\\n    if(hum <= 0 or hum > hum_max):\\n        print(\"WARNING !!!!  Value of humidity is out of range !!!!!\")\\n        c +=1\\nelse:\\n    print(\"WARNING !!!!  Value of PH is out of range !!!!!\")\\n    c = 4\\n\\nif c < 4:                #counter must be less than 4 to give results\\n\\n    rainfall = 0\\n    while(rainfall < 12000):\\n\\n        data2 = np.array([[n,\\tp,\\tk,\\ttemp,\\thum,\\tPH, rainfall]])\\n        prediction = Random_Forest.predict(data2)\\n        print(\\'For rainfall between \\', rainfall, \\' to \\', (rainfall+100),\\' = \\', prediction)\\n        rainfall = ( rainfall + 100 )\\nelse:\\n    print(\"Values entered by user is out of range !!!!! \")\\n\\n '"
            ]
          },
          "metadata": {
            "tags": []
          },
          "execution_count": 20
        }
      ]
    },
    {
      "cell_type": "code",
      "metadata": {
        "colab": {
          "background_save": true,
          "base_uri": "https://localhost:8080/"
        },
        "id": "PZy4o07pwt0k",
        "outputId": "54c0c364-6960-46ef-fd20-f192c5f395f0"
      },
      "source": [
        "n = int(input(\"Enter the amount of Nitrogen : \"))\n",
        "print()\n",
        "if(n <= 0 or n > n_max):\n",
        "    print(\"WARNING !!!!  Value of N(Nitrogen) is out of range !!!!!\")\n",
        "    print()\n",
        "p = int(input(\"Enter the amount of Phosphorus : \"))\n",
        "print()\n",
        "if(p <= 0 or p > p_max):\n",
        "    print(\"WARNING !!!!  Value of P(Phosphorus) is out of range !!!!!\")\n",
        "    print()\n",
        "k = int(input(\"Enter the amount of Potassium : \"))\n",
        "print()\n",
        "if(k <= 0 or k > k_max):\n",
        "    print(\"WARNING !!!!  Value of K(Potassium) is out of range !!!!!\")\n",
        "    print(\"\\n\")\n",
        "temp = float(input(\"Enter the temperature : \"))\n",
        "print()\n",
        "if(temp <= 0 or temp > temp_max):\n",
        "    print(\"WARNING !!!!  Value of temperature is out of range !!!!!\")\n",
        "    print(\"\\n\")\n",
        "hum = float(input(\"Enter the humidity : \"))\n",
        "print()\n",
        "if(hum <= 0 or hum > hum_max):\n",
        "    print(\"WARNING !!!!  Value of humidity is out of range !!!!!\")\n",
        "    print(\"\\n\")\n",
        "PH = float(input(\"Enter the ph value : \"))\n",
        "print()\n",
        "if(PH <= 0 or PH > ph_max):\n",
        "    print(\"WARNING !!!!  Value of PH is out of range !!!!!\")\n",
        "    print(\"\\n\")\n",
        "c = 0\n",
        "\n",
        "if(n <= 0 or n > n_max):\n",
        "    c +=1\n",
        "if(p <= 0 or p > p_max):\n",
        "    c +=1\n",
        "if(k <= 0 or k > k_max):\n",
        "    c +=1\n",
        "if(temp <= 0 or temp > temp_max):\n",
        "    c +=1\n",
        "if(hum <= 0 or hum > hum_max):\n",
        "    c +=1\n",
        "if(PH <= 0 or PH > ph_max):\n",
        "    c +=1\n",
        "\n",
        "if c < 4:                #counter must be less than 4 to give results\n",
        "\n",
        "    rainfall = 0\n",
        "    while(rainfall < 12000):\n",
        "\n",
        "        data2 = np.array([[n,\tp,\tk,\ttemp,\thum,\tPH, rainfall]])\n",
        "        prediction = Random_Forest.predict(data2)\n",
        "        print('For rainfall between ', rainfall, ' to ', (rainfall+100),' = ', prediction)\n",
        "        rainfall = ( rainfall + 100 )\n",
        "else:\n",
        "    print(\"Values entered by user is out of range !!!!! \")"
      ],
      "execution_count": null,
      "outputs": [
        {
          "output_type": "stream",
          "text": [
            "\n",
            "WARNING !!!!  Value of N(Nitrogen) is out of range !!!!!\n",
            "\n",
            "\n",
            "\n",
            "\n",
            "WARNING !!!!  Value of temperature is out of range !!!!!\n",
            "\n",
            "\n"
          ],
          "name": "stdout"
        }
      ]
    },
    {
      "cell_type": "code",
      "metadata": {
        "id": "kWG-7olc_X7z"
      },
      "source": [
        "from sklearn.tree import plot_tree\n",
        "\n",
        "rf_small = RandomForestClassifier(n_estimators=10, max_depth=3)\n",
        "#rf_small = RandomForestClassifier(n_estimators=10)\n",
        "rf_small.fit(x_train , y_train)\n"
      ],
      "execution_count": null,
      "outputs": []
    },
    {
      "cell_type": "code",
      "metadata": {
        "id": "85UXMdRYHOJ3"
      },
      "source": [
        "tree_small = rf_small.estimators_[5]\n",
        "\n",
        "fig = plt.figure(figsize=(15,10))\n",
        "plot_tree(rf_small.estimators_[0], filled='True' , impurity='True', rounded='True')"
      ],
      "execution_count": null,
      "outputs": []
    },
    {
      "cell_type": "code",
      "metadata": {
        "id": "AKxetU_3FTjT"
      },
      "source": [
        "fig.savefig(\"Random_Forest.png\")"
      ],
      "execution_count": null,
      "outputs": []
    },
    {
      "cell_type": "code",
      "metadata": {
        "id": "s6_p9bdb--0v"
      },
      "source": [
        ""
      ],
      "execution_count": null,
      "outputs": []
    }
  ]
}